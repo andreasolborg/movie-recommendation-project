{
  "cells": [
    {
      "cell_type": "markdown",
      "metadata": {
        "id": "cOA2Auchn46O"
      },
      "source": [
        "### General\n",
        "* RUNNING ON COLAB: Make a folder in your Google Drive called `datascience_data`, and upload all the .csv files there\n",
        "* RUNNING LOCALLY: Make a folder called `datascience_data` in the same directory as this notebook, and put all the .csv files there\n",
        "\n",
        "### Recommendation\n",
        "* In order to get a recommendation, provide a **full title** of a movie that you like.\n",
        "\n",
        "\n",
        "### TODO:\n",
        "* We should use clustering, but on what? Genres? Tags? Both?\n",
        "    * I tried doing clustering algorithm on the tdif_matrix, but it did not give great results compared to the current method"
      ]
    },
    {
      "cell_type": "code",
      "execution_count": 1,
      "metadata": {
        "colab": {
          "base_uri": "https://localhost:8080/"
        },
        "id": "P0Y5SaNmn46P",
        "outputId": "4930c4e3-c4a7-491a-848b-efdab98634ff"
      },
      "outputs": [
        {
          "output_type": "stream",
          "name": "stdout",
          "text": [
            "Drive already mounted at /content/drive; to attempt to forcibly remount, call drive.mount(\"/content/drive\", force_remount=True).\n"
          ]
        },
        {
          "output_type": "stream",
          "name": "stderr",
          "text": [
            "<ipython-input-1-77a212201b92>:22: DtypeWarning: Columns (10) have mixed types. Specify dtype option on import or set low_memory=False.\n",
            "  movies_metadata_df = pd.read_csv(drive_path + '/' + file_names[4])\n"
          ]
        }
      ],
      "source": [
        "import pandas as pd\n",
        "import numpy as np\n",
        "\n",
        "# # Run on Colab\n",
        "\n",
        "from google.colab import drive\n",
        "drive.mount('/content/drive')\n",
        "# Define the path to the file in Google Drive\n",
        "drive_path = 'drive/My Drive/datascience_data'\n",
        "\n",
        "# # Run on local (folder: data)\n",
        "# drive_path = 'datascience_data'\n",
        "\n",
        "# Define the file names\n",
        "file_names = ['credits.csv', 'keywords.csv', 'links.csv', 'links_small.csv', 'movies_metadata.csv', 'ratings.csv', 'ratings_small.csv']\n",
        "\n",
        "# Load the data into Pandas DataFrames\n",
        "# credits_df = pd.read_csv(drive_path + '/' + file_names[0])\n",
        "keywords_df = pd.read_csv(drive_path + '/' + file_names[1])\n",
        "# links_df = pd.read_csv(drive_path + '/' + file_names[2])\n",
        "# links_small_df = pd.read_csv(drive_path + '/' + file_names[3])\n",
        "movies_metadata_df = pd.read_csv(drive_path + '/' + file_names[4])\n",
        "# ratings_df = pd.read_csv(drive_path + '/' + file_names[5])\n",
        "# ratings_small_df = pd.read_csv(drive_path + '/' + file_names[6])\n",
        "\n",
        "\n",
        "# Display the first few rows of each dataframe to understand their structure\n",
        "dataframes = {\n",
        "    \"keywords\": keywords_df.head(),\n",
        "    # \"links_small\": links_small_df.head(),\n",
        "    # \"links\": links_df.head(),\n",
        "    \"movies_metadata\": movies_metadata_df.head(),\n",
        "    # \"ratings_small\": ratings_small_df.head()\n",
        "}\n",
        "\n",
        "# dataframes"
      ]
    },
    {
      "cell_type": "markdown",
      "metadata": {
        "id": "m0H5dmY3n46Q"
      },
      "source": [
        "### 1. Data Preprocessing\n",
        "Let's begin with the inspection and cleaning of each dataset. I'll start by checking for missing values, duplicates, and data types to ensure that the data is consistent and ready for merging. After that, I'll merge the relevant information from each dataset into a single DataFrame for further processing."
      ]
    },
    {
      "cell_type": "code",
      "execution_count": 2,
      "metadata": {
        "colab": {
          "base_uri": "https://localhost:8080/"
        },
        "id": "9ERb0YSFn46R",
        "outputId": "cefff020-fdf9-406f-bb29-2fb5faf85f45"
      },
      "outputs": [
        {
          "output_type": "stream",
          "name": "stderr",
          "text": [
            "<ipython-input-2-86e3f3b76b4c>:6: SettingWithCopyWarning: \n",
            "A value is trying to be set on a copy of a slice from a DataFrame.\n",
            "Try using .loc[row_indexer,col_indexer] = value instead\n",
            "\n",
            "See the caveats in the documentation: https://pandas.pydata.org/pandas-docs/stable/user_guide/indexing.html#returning-a-view-versus-a-copy\n",
            "  movies_metadata_clean['id'] = movies_metadata_clean['id'].astype(int)\n"
          ]
        },
        {
          "output_type": "stream",
          "name": "stdout",
          "text": [
            "<class 'pandas.core.frame.DataFrame'>\n",
            "Int64Index: 45433 entries, 0 to 45432\n",
            "Data columns (total 4 columns):\n",
            " #   Column    Non-Null Count  Dtype \n",
            "---  ------    --------------  ----- \n",
            " 0   id        45433 non-null  int64 \n",
            " 1   title     45430 non-null  object\n",
            " 2   overview  44479 non-null  object\n",
            " 3   keywords  45432 non-null  object\n",
            "dtypes: int64(1), object(3)\n",
            "memory usage: 1.7+ MB\n"
          ]
        },
        {
          "output_type": "stream",
          "name": "stderr",
          "text": [
            "<ipython-input-2-86e3f3b76b4c>:10: SettingWithCopyWarning: \n",
            "A value is trying to be set on a copy of a slice from a DataFrame.\n",
            "Try using .loc[row_indexer,col_indexer] = value instead\n",
            "\n",
            "See the caveats in the documentation: https://pandas.pydata.org/pandas-docs/stable/user_guide/indexing.html#returning-a-view-versus-a-copy\n",
            "  keywords_clean['id'] = keywords_clean['id'].astype(int)\n"
          ]
        },
        {
          "output_type": "execute_result",
          "data": {
            "text/plain": [
              "(None,\n",
              "       id                        title  \\\n",
              " 0    862                    Toy Story   \n",
              " 1   8844                      Jumanji   \n",
              " 2  15602             Grumpier Old Men   \n",
              " 3  31357            Waiting to Exhale   \n",
              " 4  11862  Father of the Bride Part II   \n",
              " \n",
              "                                             overview  \\\n",
              " 0  Led by Woody, Andy's toys live happily in his ...   \n",
              " 1  When siblings Judy and Peter discover an encha...   \n",
              " 2  A family wedding reignites the ancient feud be...   \n",
              " 3  Cheated on, mistreated and stepped on, the wom...   \n",
              " 4  Just when George Banks has recovered from his ...   \n",
              " \n",
              "                                             keywords  \n",
              " 0  [{'id': 931, 'name': 'jealousy'}, {'id': 4290,...  \n",
              " 1  [{'id': 10090, 'name': 'board game'}, {'id': 1...  \n",
              " 2  [{'id': 1495, 'name': 'fishing'}, {'id': 12392...  \n",
              " 3  [{'id': 818, 'name': 'based on novel'}, {'id':...  \n",
              " 4  [{'id': 1009, 'name': 'baby'}, {'id': 1599, 'n...  )"
            ]
          },
          "metadata": {},
          "execution_count": 2
        }
      ],
      "source": [
        "# Data inspection and cleaning for each dataset\n",
        "\n",
        "# Inspect for duplicates, null values and data types in movies_metadata\n",
        "movies_metadata_clean = movies_metadata_df.drop_duplicates(subset='id')\n",
        "movies_metadata_clean = movies_metadata_clean[movies_metadata_clean['id'].apply(lambda x: str(x).isdigit())]\n",
        "movies_metadata_clean['id'] = movies_metadata_clean['id'].astype(int)\n",
        "\n",
        "# Check for null values and duplicates in the keywords dataset\n",
        "keywords_clean = keywords_df.drop_duplicates('id')\n",
        "keywords_clean['id'] = keywords_clean['id'].astype(int)\n",
        "\n",
        "# Now, merge the datasets on 'id' column\n",
        "# We only need the 'id', 'title', and 'overview' from movies_metadata\n",
        "# And the 'keywords' from the keywords dataset\n",
        "merged_df = pd.merge(movies_metadata_clean[['id', 'title', 'overview']],\n",
        "                     keywords_clean,\n",
        "                     on='id',\n",
        "                     how='left')\n",
        "\n",
        "# Display the merged DataFrame structure and check for nulls\n",
        "merged_df.info(), merged_df.head()\n"
      ]
    },
    {
      "cell_type": "markdown",
      "metadata": {
        "id": "FaMo0uI5n46R"
      },
      "source": [
        "Handle the missing values in the overview and keywords columns, which may involve filling or removing the missing entries.\n",
        "Preprocess the overview and keywords text data. This involves converting the JSON-like string in the keywords column into a workable format, tokenizing, and cleaning the text (e.g., removing stop words, punctuation, and stemming or lemmatization)."
      ]
    },
    {
      "cell_type": "code",
      "execution_count": 3,
      "metadata": {
        "colab": {
          "base_uri": "https://localhost:8080/"
        },
        "id": "btRwts6Tn46R",
        "outputId": "e74cadb9-7fe2-4289-b415-2788672e1769"
      },
      "outputs": [
        {
          "output_type": "execute_result",
          "data": {
            "text/plain": [
              "(0    Led by Woody, Andy's toys live happily in his ...\n",
              " 1    When siblings Judy and Peter discover an encha...\n",
              " 2    A family wedding reignites the ancient feud be...\n",
              " 3    Cheated on, mistreated and stepped on, the wom...\n",
              " 4    Just when George Banks has recovered from his ...\n",
              " Name: combined, dtype: object,\n",
              " id              0\n",
              " title           3\n",
              " overview        0\n",
              " keywords        0\n",
              " keyword_list    0\n",
              " combined        0\n",
              " dtype: int64)"
            ]
          },
          "metadata": {},
          "execution_count": 3
        }
      ],
      "source": [
        "# Handling missing values\n",
        "# For the 'overview' column, if the overview is missing, we can fill it with an empty string\n",
        "# For the 'keywords' column, if the keywords are missing, we can also fill it with an empty string\n",
        "\n",
        "merged_df['overview'] = merged_df['overview'].fillna('')\n",
        "merged_df['keywords'] = merged_df['keywords'].fillna('[]')\n",
        "\n",
        "# Now we need to convert the 'keywords' column from a JSON-like string to an actual list of keywords\n",
        "import json\n",
        "\n",
        "# A function to parse the keywords correctly, handling any errors in the JSON decoding process\n",
        "def parse_keywords(keyword_string):\n",
        "    try:\n",
        "        return json.loads(keyword_string.replace(\"'\", \"\\\"\"))\n",
        "    except json.decoder.JSONDecodeError:\n",
        "        return []  # In case of error, return an empty list\n",
        "\n",
        "# Apply the function to the 'keywords' column\n",
        "merged_df['keywords'] = merged_df['keywords'].apply(parse_keywords)\n",
        "\n",
        "# Extract just the names of the keywords to a new column 'keyword_list'\n",
        "merged_df['keyword_list'] = merged_df['keywords'].apply(lambda x: [d['name'] for d in x])\n",
        "\n",
        "# We will also create a 'combined' column that concatenates the overview and the keyword list into a single string\n",
        "# This is what we will use for TF-IDF vectorization\n",
        "merged_df['combined'] = merged_df['overview'] + ' ' + merged_df['keyword_list'].apply(lambda x: ' '.join(x))\n",
        "\n",
        "# Display the final structure of the DataFrame and the first few rows of the 'combined' column\n",
        "merged_df['combined'].head(), merged_df.isnull().sum()\n"
      ]
    },
    {
      "cell_type": "markdown",
      "metadata": {
        "id": "da1lEWEun46R"
      },
      "source": [
        "The missing values in the overview and keywords columns have been handled, and a new combined column has been created by concatenating the overview and the keyword names. This column will serve as the corpus for TF-IDF vectorization.\n",
        "\n",
        "The final structure indicates that there are no missing values in the key columns used for TF-IDF. However, there are 3 entries with missing titles, which should not affect the recommendation system, as the recommendations are based on the content, not the title itself.\n",
        "\n"
      ]
    },
    {
      "cell_type": "code",
      "execution_count": 4,
      "metadata": {
        "colab": {
          "base_uri": "https://localhost:8080/",
          "height": 293
        },
        "id": "kEu5HT8Zn46R",
        "outputId": "585999a8-b7f0-4eb5-aca8-2fa7ebf0786f"
      },
      "outputs": [
        {
          "output_type": "execute_result",
          "data": {
            "text/plain": [
              "      id                        title  \\\n",
              "0    862                    Toy Story   \n",
              "1   8844                      Jumanji   \n",
              "2  15602             Grumpier Old Men   \n",
              "3  31357            Waiting to Exhale   \n",
              "4  11862  Father of the Bride Part II   \n",
              "\n",
              "                                            overview  \\\n",
              "0  Led by Woody, Andy's toys live happily in his ...   \n",
              "1  When siblings Judy and Peter discover an encha...   \n",
              "2  A family wedding reignites the ancient feud be...   \n",
              "3  Cheated on, mistreated and stepped on, the wom...   \n",
              "4  Just when George Banks has recovered from his ...   \n",
              "\n",
              "                                            keywords  \\\n",
              "0  [{'id': 931, 'name': 'jealousy'}, {'id': 4290,...   \n",
              "1                                                 []   \n",
              "2  [{'id': 1495, 'name': 'fishing'}, {'id': 12392...   \n",
              "3  [{'id': 818, 'name': 'based on novel'}, {'id':...   \n",
              "4  [{'id': 1009, 'name': 'baby'}, {'id': 1599, 'n...   \n",
              "\n",
              "                                        keyword_list  \\\n",
              "0  [jealousy, toy, boy, friendship, friends, riva...   \n",
              "1                                                 []   \n",
              "2  [fishing, best friend, duringcreditsstinger, o...   \n",
              "3  [based on novel, interracial relationship, sin...   \n",
              "4  [baby, midlife crisis, confidence, aging, daug...   \n",
              "\n",
              "                                            combined  \n",
              "0  Led by Woody, Andy's toys live happily in his ...  \n",
              "1  When siblings Judy and Peter discover an encha...  \n",
              "2  A family wedding reignites the ancient feud be...  \n",
              "3  Cheated on, mistreated and stepped on, the wom...  \n",
              "4  Just when George Banks has recovered from his ...  "
            ],
            "text/html": [
              "\n",
              "  <div id=\"df-b6dd05fa-780f-4565-99fa-c5b0582a714c\" class=\"colab-df-container\">\n",
              "    <div>\n",
              "<style scoped>\n",
              "    .dataframe tbody tr th:only-of-type {\n",
              "        vertical-align: middle;\n",
              "    }\n",
              "\n",
              "    .dataframe tbody tr th {\n",
              "        vertical-align: top;\n",
              "    }\n",
              "\n",
              "    .dataframe thead th {\n",
              "        text-align: right;\n",
              "    }\n",
              "</style>\n",
              "<table border=\"1\" class=\"dataframe\">\n",
              "  <thead>\n",
              "    <tr style=\"text-align: right;\">\n",
              "      <th></th>\n",
              "      <th>id</th>\n",
              "      <th>title</th>\n",
              "      <th>overview</th>\n",
              "      <th>keywords</th>\n",
              "      <th>keyword_list</th>\n",
              "      <th>combined</th>\n",
              "    </tr>\n",
              "  </thead>\n",
              "  <tbody>\n",
              "    <tr>\n",
              "      <th>0</th>\n",
              "      <td>862</td>\n",
              "      <td>Toy Story</td>\n",
              "      <td>Led by Woody, Andy's toys live happily in his ...</td>\n",
              "      <td>[{'id': 931, 'name': 'jealousy'}, {'id': 4290,...</td>\n",
              "      <td>[jealousy, toy, boy, friendship, friends, riva...</td>\n",
              "      <td>Led by Woody, Andy's toys live happily in his ...</td>\n",
              "    </tr>\n",
              "    <tr>\n",
              "      <th>1</th>\n",
              "      <td>8844</td>\n",
              "      <td>Jumanji</td>\n",
              "      <td>When siblings Judy and Peter discover an encha...</td>\n",
              "      <td>[]</td>\n",
              "      <td>[]</td>\n",
              "      <td>When siblings Judy and Peter discover an encha...</td>\n",
              "    </tr>\n",
              "    <tr>\n",
              "      <th>2</th>\n",
              "      <td>15602</td>\n",
              "      <td>Grumpier Old Men</td>\n",
              "      <td>A family wedding reignites the ancient feud be...</td>\n",
              "      <td>[{'id': 1495, 'name': 'fishing'}, {'id': 12392...</td>\n",
              "      <td>[fishing, best friend, duringcreditsstinger, o...</td>\n",
              "      <td>A family wedding reignites the ancient feud be...</td>\n",
              "    </tr>\n",
              "    <tr>\n",
              "      <th>3</th>\n",
              "      <td>31357</td>\n",
              "      <td>Waiting to Exhale</td>\n",
              "      <td>Cheated on, mistreated and stepped on, the wom...</td>\n",
              "      <td>[{'id': 818, 'name': 'based on novel'}, {'id':...</td>\n",
              "      <td>[based on novel, interracial relationship, sin...</td>\n",
              "      <td>Cheated on, mistreated and stepped on, the wom...</td>\n",
              "    </tr>\n",
              "    <tr>\n",
              "      <th>4</th>\n",
              "      <td>11862</td>\n",
              "      <td>Father of the Bride Part II</td>\n",
              "      <td>Just when George Banks has recovered from his ...</td>\n",
              "      <td>[{'id': 1009, 'name': 'baby'}, {'id': 1599, 'n...</td>\n",
              "      <td>[baby, midlife crisis, confidence, aging, daug...</td>\n",
              "      <td>Just when George Banks has recovered from his ...</td>\n",
              "    </tr>\n",
              "  </tbody>\n",
              "</table>\n",
              "</div>\n",
              "    <div class=\"colab-df-buttons\">\n",
              "\n",
              "  <div class=\"colab-df-container\">\n",
              "    <button class=\"colab-df-convert\" onclick=\"convertToInteractive('df-b6dd05fa-780f-4565-99fa-c5b0582a714c')\"\n",
              "            title=\"Convert this dataframe to an interactive table.\"\n",
              "            style=\"display:none;\">\n",
              "\n",
              "  <svg xmlns=\"http://www.w3.org/2000/svg\" height=\"24px\" viewBox=\"0 -960 960 960\">\n",
              "    <path d=\"M120-120v-720h720v720H120Zm60-500h600v-160H180v160Zm220 220h160v-160H400v160Zm0 220h160v-160H400v160ZM180-400h160v-160H180v160Zm440 0h160v-160H620v160ZM180-180h160v-160H180v160Zm440 0h160v-160H620v160Z\"/>\n",
              "  </svg>\n",
              "    </button>\n",
              "\n",
              "  <style>\n",
              "    .colab-df-container {\n",
              "      display:flex;\n",
              "      gap: 12px;\n",
              "    }\n",
              "\n",
              "    .colab-df-convert {\n",
              "      background-color: #E8F0FE;\n",
              "      border: none;\n",
              "      border-radius: 50%;\n",
              "      cursor: pointer;\n",
              "      display: none;\n",
              "      fill: #1967D2;\n",
              "      height: 32px;\n",
              "      padding: 0 0 0 0;\n",
              "      width: 32px;\n",
              "    }\n",
              "\n",
              "    .colab-df-convert:hover {\n",
              "      background-color: #E2EBFA;\n",
              "      box-shadow: 0px 1px 2px rgba(60, 64, 67, 0.3), 0px 1px 3px 1px rgba(60, 64, 67, 0.15);\n",
              "      fill: #174EA6;\n",
              "    }\n",
              "\n",
              "    .colab-df-buttons div {\n",
              "      margin-bottom: 4px;\n",
              "    }\n",
              "\n",
              "    [theme=dark] .colab-df-convert {\n",
              "      background-color: #3B4455;\n",
              "      fill: #D2E3FC;\n",
              "    }\n",
              "\n",
              "    [theme=dark] .colab-df-convert:hover {\n",
              "      background-color: #434B5C;\n",
              "      box-shadow: 0px 1px 3px 1px rgba(0, 0, 0, 0.15);\n",
              "      filter: drop-shadow(0px 1px 2px rgba(0, 0, 0, 0.3));\n",
              "      fill: #FFFFFF;\n",
              "    }\n",
              "  </style>\n",
              "\n",
              "    <script>\n",
              "      const buttonEl =\n",
              "        document.querySelector('#df-b6dd05fa-780f-4565-99fa-c5b0582a714c button.colab-df-convert');\n",
              "      buttonEl.style.display =\n",
              "        google.colab.kernel.accessAllowed ? 'block' : 'none';\n",
              "\n",
              "      async function convertToInteractive(key) {\n",
              "        const element = document.querySelector('#df-b6dd05fa-780f-4565-99fa-c5b0582a714c');\n",
              "        const dataTable =\n",
              "          await google.colab.kernel.invokeFunction('convertToInteractive',\n",
              "                                                    [key], {});\n",
              "        if (!dataTable) return;\n",
              "\n",
              "        const docLinkHtml = 'Like what you see? Visit the ' +\n",
              "          '<a target=\"_blank\" href=https://colab.research.google.com/notebooks/data_table.ipynb>data table notebook</a>'\n",
              "          + ' to learn more about interactive tables.';\n",
              "        element.innerHTML = '';\n",
              "        dataTable['output_type'] = 'display_data';\n",
              "        await google.colab.output.renderOutput(dataTable, element);\n",
              "        const docLink = document.createElement('div');\n",
              "        docLink.innerHTML = docLinkHtml;\n",
              "        element.appendChild(docLink);\n",
              "      }\n",
              "    </script>\n",
              "  </div>\n",
              "\n",
              "\n",
              "<div id=\"df-c06a828c-66a8-4b70-9acd-45d49b30d694\">\n",
              "  <button class=\"colab-df-quickchart\" onclick=\"quickchart('df-c06a828c-66a8-4b70-9acd-45d49b30d694')\"\n",
              "            title=\"Suggest charts.\"\n",
              "            style=\"display:none;\">\n",
              "\n",
              "<svg xmlns=\"http://www.w3.org/2000/svg\" height=\"24px\"viewBox=\"0 0 24 24\"\n",
              "     width=\"24px\">\n",
              "    <g>\n",
              "        <path d=\"M19 3H5c-1.1 0-2 .9-2 2v14c0 1.1.9 2 2 2h14c1.1 0 2-.9 2-2V5c0-1.1-.9-2-2-2zM9 17H7v-7h2v7zm4 0h-2V7h2v10zm4 0h-2v-4h2v4z\"/>\n",
              "    </g>\n",
              "</svg>\n",
              "  </button>\n",
              "\n",
              "<style>\n",
              "  .colab-df-quickchart {\n",
              "      --bg-color: #E8F0FE;\n",
              "      --fill-color: #1967D2;\n",
              "      --hover-bg-color: #E2EBFA;\n",
              "      --hover-fill-color: #174EA6;\n",
              "      --disabled-fill-color: #AAA;\n",
              "      --disabled-bg-color: #DDD;\n",
              "  }\n",
              "\n",
              "  [theme=dark] .colab-df-quickchart {\n",
              "      --bg-color: #3B4455;\n",
              "      --fill-color: #D2E3FC;\n",
              "      --hover-bg-color: #434B5C;\n",
              "      --hover-fill-color: #FFFFFF;\n",
              "      --disabled-bg-color: #3B4455;\n",
              "      --disabled-fill-color: #666;\n",
              "  }\n",
              "\n",
              "  .colab-df-quickchart {\n",
              "    background-color: var(--bg-color);\n",
              "    border: none;\n",
              "    border-radius: 50%;\n",
              "    cursor: pointer;\n",
              "    display: none;\n",
              "    fill: var(--fill-color);\n",
              "    height: 32px;\n",
              "    padding: 0;\n",
              "    width: 32px;\n",
              "  }\n",
              "\n",
              "  .colab-df-quickchart:hover {\n",
              "    background-color: var(--hover-bg-color);\n",
              "    box-shadow: 0 1px 2px rgba(60, 64, 67, 0.3), 0 1px 3px 1px rgba(60, 64, 67, 0.15);\n",
              "    fill: var(--button-hover-fill-color);\n",
              "  }\n",
              "\n",
              "  .colab-df-quickchart-complete:disabled,\n",
              "  .colab-df-quickchart-complete:disabled:hover {\n",
              "    background-color: var(--disabled-bg-color);\n",
              "    fill: var(--disabled-fill-color);\n",
              "    box-shadow: none;\n",
              "  }\n",
              "\n",
              "  .colab-df-spinner {\n",
              "    border: 2px solid var(--fill-color);\n",
              "    border-color: transparent;\n",
              "    border-bottom-color: var(--fill-color);\n",
              "    animation:\n",
              "      spin 1s steps(1) infinite;\n",
              "  }\n",
              "\n",
              "  @keyframes spin {\n",
              "    0% {\n",
              "      border-color: transparent;\n",
              "      border-bottom-color: var(--fill-color);\n",
              "      border-left-color: var(--fill-color);\n",
              "    }\n",
              "    20% {\n",
              "      border-color: transparent;\n",
              "      border-left-color: var(--fill-color);\n",
              "      border-top-color: var(--fill-color);\n",
              "    }\n",
              "    30% {\n",
              "      border-color: transparent;\n",
              "      border-left-color: var(--fill-color);\n",
              "      border-top-color: var(--fill-color);\n",
              "      border-right-color: var(--fill-color);\n",
              "    }\n",
              "    40% {\n",
              "      border-color: transparent;\n",
              "      border-right-color: var(--fill-color);\n",
              "      border-top-color: var(--fill-color);\n",
              "    }\n",
              "    60% {\n",
              "      border-color: transparent;\n",
              "      border-right-color: var(--fill-color);\n",
              "    }\n",
              "    80% {\n",
              "      border-color: transparent;\n",
              "      border-right-color: var(--fill-color);\n",
              "      border-bottom-color: var(--fill-color);\n",
              "    }\n",
              "    90% {\n",
              "      border-color: transparent;\n",
              "      border-bottom-color: var(--fill-color);\n",
              "    }\n",
              "  }\n",
              "</style>\n",
              "\n",
              "  <script>\n",
              "    async function quickchart(key) {\n",
              "      const quickchartButtonEl =\n",
              "        document.querySelector('#' + key + ' button');\n",
              "      quickchartButtonEl.disabled = true;  // To prevent multiple clicks.\n",
              "      quickchartButtonEl.classList.add('colab-df-spinner');\n",
              "      try {\n",
              "        const charts = await google.colab.kernel.invokeFunction(\n",
              "            'suggestCharts', [key], {});\n",
              "      } catch (error) {\n",
              "        console.error('Error during call to suggestCharts:', error);\n",
              "      }\n",
              "      quickchartButtonEl.classList.remove('colab-df-spinner');\n",
              "      quickchartButtonEl.classList.add('colab-df-quickchart-complete');\n",
              "    }\n",
              "    (() => {\n",
              "      let quickchartButtonEl =\n",
              "        document.querySelector('#df-c06a828c-66a8-4b70-9acd-45d49b30d694 button');\n",
              "      quickchartButtonEl.style.display =\n",
              "        google.colab.kernel.accessAllowed ? 'block' : 'none';\n",
              "    })();\n",
              "  </script>\n",
              "</div>\n",
              "    </div>\n",
              "  </div>\n"
            ]
          },
          "metadata": {},
          "execution_count": 4
        }
      ],
      "source": [
        "merged_df.head()"
      ]
    },
    {
      "cell_type": "code",
      "execution_count": 5,
      "metadata": {
        "id": "BXAZ8hpzn46R"
      },
      "outputs": [],
      "source": [
        "# merged_df.to_csv('movies_metadata_clean.csv', index=False)"
      ]
    },
    {
      "cell_type": "code",
      "execution_count": 6,
      "metadata": {
        "colab": {
          "base_uri": "https://localhost:8080/"
        },
        "id": "fRBKWxann46R",
        "outputId": "1668d2bf-9610-4f0b-883a-688e6aa66946"
      },
      "outputs": [
        {
          "output_type": "execute_result",
          "data": {
            "text/plain": [
              "(45433, 77452)"
            ]
          },
          "metadata": {},
          "execution_count": 6
        }
      ],
      "source": [
        "from sklearn.feature_extraction.text import TfidfVectorizer\n",
        "import numpy as np\n",
        "\n",
        "\n",
        "# Initialize the TF-IDF Vectorizer\n",
        "tfidf_vectorizer = TfidfVectorizer(stop_words='english')\n",
        "\n",
        "# Fit and transform the 'combined' column to a TF-IDF matrix\n",
        "tfidf_matrix = tfidf_vectorizer.fit_transform(merged_df['combined'])\n",
        "\n",
        "# Output the shape of the TF-IDF matrix\n",
        "tfidf_matrix.shape\n"
      ]
    },
    {
      "cell_type": "markdown",
      "metadata": {
        "id": "KgSCpsn2n46S"
      },
      "source": [
        "The TF-IDF vectorization is complete. The resulting TF-IDF matrix has dimensions of 45433×77452, indicating that there are 45,433 movies and 77,452 unique words (after removing stop words) across the combined text corpus.\n",
        "\n",
        "With this matrix, we can now calculate the cosine similarity between movies and build the recommendation system."
      ]
    },
    {
      "cell_type": "markdown",
      "metadata": {
        "id": "LcD5rHiyn46S"
      },
      "source": [
        "### Building a Recommendation System with Pairwise Cosine Similarity"
      ]
    },
    {
      "cell_type": "markdown",
      "metadata": {
        "id": "BTZaRvJ3n46S"
      },
      "source": [
        "Due to the high memory requirements of storing such a large dense matrix, we use an alternative approach: a more memory-efficient method such as pairwise_distances from sklearn.metrics with metric='cosine', which computes similarity scores on the fly and doesn't require storing a large matrix in memory."
      ]
    },
    {
      "cell_type": "code",
      "source": [
        "# Construct a reverse map of indices and movie titles\n",
        "indices = pd.Series(merged_df.index, index=merged_df['title']).drop_duplicates()"
      ],
      "metadata": {
        "id": "PZhHhaMbsfsF"
      },
      "execution_count": 7,
      "outputs": []
    },
    {
      "cell_type": "code",
      "execution_count": 8,
      "metadata": {
        "colab": {
          "base_uri": "https://localhost:8080/"
        },
        "id": "nVle6dhkn46S",
        "outputId": "c70bc4fc-1681-427f-ad5e-953b87e7b187"
      },
      "outputs": [
        {
          "output_type": "execute_result",
          "data": {
            "text/plain": [
              "18244                                The Dark Knight Rises\n",
              "15505                           Batman: Under the Red Hood\n",
              "1328                                        Batman Returns\n",
              "10119                                        Batman Begins\n",
              "585                                                 Batman\n",
              "150                                         Batman Forever\n",
              "20223              Batman: The Dark Knight Returns, Part 2\n",
              "40944    LEGO DC Comics Super Heroes: Batman: Be-Leaguered\n",
              "21181    Batman Unmasked: The Psychology of the Dark Kn...\n",
              "9228                    Batman Beyond: Return of the Joker\n",
              "41952    Batman Beyond Darwyn Cooke's Batman 75th Anniv...\n",
              "32096                     Batman Unlimited: Monster Mayhem\n",
              "41946                                The Lego Batman Movie\n",
              "3094                          Batman: Mask of the Phantasm\n",
              "19783              Batman: The Dark Knight Returns, Part 1\n",
              "41424    LEGO DC Comics Super Heroes: Justice League - ...\n",
              "39598                             Batman: The Killing Joke\n",
              "31049                   Batman v Superman: Dawn of Justice\n",
              "9167             The Batman Superman Movie: World's Finest\n",
              "Name: title, dtype: object"
            ]
          },
          "metadata": {},
          "execution_count": 8
        }
      ],
      "source": [
        "from sklearn.metrics.pairwise import pairwise_distances\n",
        "\n",
        "# Instead of calculating the dense matrix all at once, we'll calculate the cosine similarity on-the-fly\n",
        "# For memory efficiency, we'll use pairwise_distances with metric 'cosine' which is equivalent to 1 - cosine_similarity\n",
        "\n",
        "# Function to get recommendations based on cosine similarity, computed on-the-fly\n",
        "def get_recommendations_pairwise_distances(title, tfidf_matrix=tfidf_matrix, indices=indices):\n",
        "    # Get the index of the movie that matches the title\n",
        "    idx = indices[title]\n",
        "\n",
        "    # Compute the cosine similarity between this movie and all others in the dataset\n",
        "    cosine_similarities = 1 - pairwise_distances(tfidf_matrix[idx], tfidf_matrix, metric='cosine')\n",
        "\n",
        "    # Get the scores of all movies\n",
        "    sim_scores = list(enumerate(cosine_similarities[0]))\n",
        "\n",
        "    # Sort the movies based on the similarity scores\n",
        "    sim_scores = sorted(sim_scores, key=lambda x: x[1], reverse=True)\n",
        "\n",
        "    # Get the scores of the 10 most similar movies\n",
        "    sim_scores = sim_scores[1:20]\n",
        "\n",
        "    # Get the movie indices\n",
        "    movie_indices = [i[0] for i in sim_scores]\n",
        "\n",
        "    # Return the top 10 most similar movies\n",
        "    return merged_df['title'].iloc[movie_indices]\n",
        "\n",
        "# Test the system with a movie\n",
        "get_recommendations_pairwise_distances(\"The Dark Knight\")\n"
      ]
    },
    {
      "cell_type": "markdown",
      "metadata": {
        "id": "fJCLDxUZn46S"
      },
      "source": [
        "### Testing Nearest Neighbors with Cosine Similarity"
      ]
    },
    {
      "cell_type": "code",
      "execution_count": 9,
      "metadata": {
        "colab": {
          "base_uri": "https://localhost:8080/"
        },
        "id": "diW3ywOun46S",
        "outputId": "fecef1fd-5554-400e-9021-f7a021d8ee7a"
      },
      "outputs": [
        {
          "output_type": "execute_result",
          "data": {
            "text/plain": [
              "18244                                The Dark Knight Rises\n",
              "15505                           Batman: Under the Red Hood\n",
              "1328                                        Batman Returns\n",
              "10119                                        Batman Begins\n",
              "585                                                 Batman\n",
              "150                                         Batman Forever\n",
              "20223              Batman: The Dark Knight Returns, Part 2\n",
              "40944    LEGO DC Comics Super Heroes: Batman: Be-Leaguered\n",
              "21181    Batman Unmasked: The Psychology of the Dark Kn...\n",
              "9228                    Batman Beyond: Return of the Joker\n",
              "28681                                      The Dark Knight\n",
              "2973                                             Kagemusha\n",
              "34830                                     West Of Shanghai\n",
              "32656                                            Turbo Kid\n",
              "17995                       Prisoners of the Lost Universe\n",
              "17103                                   The Storm Warriors\n",
              "6937                                                  Hero\n",
              "22097                                              Ninja 1\n",
              "4879                                       Black Hawk Down\n",
              "13271                             The General Died at Dawn\n",
              "9240                Dark Prince: The True Story of Dracula\n",
              "Name: title, dtype: object"
            ]
          },
          "metadata": {},
          "execution_count": 9
        }
      ],
      "source": [
        "from sklearn.neighbors import NearestNeighbors\n",
        "\n",
        "# Using the NearestNeighbors class to find the most similar items\n",
        "# Initializing the NearestNeighbors model with cosine similarity\n",
        "model_knn = NearestNeighbors(metric='cosine', algorithm='brute', n_neighbors=20, n_jobs=-1)\n",
        "\n",
        "# Fitting the model on our TF-IDF matrix\n",
        "model_knn.fit(tfidf_matrix)\n",
        "\n",
        "# Function to get recommendations using Nearest Neighbors\n",
        "def get_recommendations_knn(title, model_knn=model_knn, indices=indices):\n",
        "    # Get the index of the movie that matches the title\n",
        "    idx = indices[title]\n",
        "\n",
        "    # Find the k-neighbors of a point\n",
        "    distances, indices = model_knn.kneighbors(tfidf_matrix[idx], n_neighbors=11)\n",
        "\n",
        "    # Get the indices of the nearest neighbors (excluding itself)\n",
        "    nearest_indices = indices.flatten()[1:]\n",
        "\n",
        "    # Return the top 10 most similar movies\n",
        "    return merged_df['title'].iloc[nearest_indices]\n",
        "\n",
        "# Test the system with a movie\n",
        "get_recommendations_knn('The Dark Knight')\n"
      ]
    },
    {
      "cell_type": "markdown",
      "metadata": {
        "id": "gj0XoF9En46S"
      },
      "source": [
        "## Trying to Compute Similarity withouth packages"
      ]
    },
    {
      "cell_type": "code",
      "source": [
        "# Function to calculate cosine similarity scores for a sparse matrix\n",
        "def cosine_similarity_manual(tfidf_matrix, index):\n",
        "    # Compute the cosine similarity between the index movie and all movies in the matrix\n",
        "    # This is done by calculating the dot product (as the vectors are already L2-normalized)\n",
        "    cosine_similarities = tfidf_matrix.dot(tfidf_matrix[index].T).toarray().ravel()\n",
        "    return cosine_similarities\n",
        "\n",
        "def get_recommendations_manual(title, tfidf_matrix, merged_df, top_n=20):\n",
        "    # Assuming the title is found in the DataFrame and ignoring the case\n",
        "    titles = merged_df['title'].str.lower()\n",
        "    indices = pd.Series(merged_df.index, index=titles).drop_duplicates()\n",
        "\n",
        "    # Get the indices of the movie that matches the title\n",
        "    idx_list = indices[title.lower()]\n",
        "    if isinstance(idx_list, pd.Series):\n",
        "        idx = idx_list.iloc[0]  # Take the first one if there are multiple\n",
        "    else:\n",
        "        idx = idx_list\n",
        "\n",
        "    # Get the pairwise similarity scores of all movies with that movie\n",
        "    cosine_similarities = cosine_similarity_manual(tfidf_matrix, idx)\n",
        "\n",
        "    # Sort the movies based on the similarity scores\n",
        "    similar_indices = cosine_similarities.argsort()[:-top_n-1:-1]\n",
        "\n",
        "    # Get the titles of the most similar movies\n",
        "    similar_items = [(cosine_similarities[i], merged_df['title'].iloc[i]) for i in similar_indices if i != idx]\n",
        "\n",
        "    # Return the top 'top_n' most similar movies, excluding the input movie itself\n",
        "    return similar_items[:top_n]\n",
        "\n",
        "\n",
        "get_recommendations_manual(\"The Dark Knight\", tfidf_matrix, merged_df)"
      ],
      "metadata": {
        "colab": {
          "base_uri": "https://localhost:8080/"
        },
        "id": "jke-0O9RsUq1",
        "outputId": "ee228ad5-0158-4c3b-ee02-35967c60aabf"
      },
      "execution_count": 10,
      "outputs": [
        {
          "output_type": "execute_result",
          "data": {
            "text/plain": [
              "[(0.44698593319718216, 'The Dark Knight Rises'),\n",
              " (0.4075219491824227, 'Batman: Under the Red Hood'),\n",
              " (0.3782230541298188, 'Batman Returns'),\n",
              " (0.36137518833270144, 'Batman Begins'),\n",
              " (0.36129974185287445, 'Batman'),\n",
              " (0.32496194568135783, 'Batman Forever'),\n",
              " (0.320798286812106, 'Batman: The Dark Knight Returns, Part 2'),\n",
              " (0.31068473206207065, 'LEGO DC Comics Super Heroes: Batman: Be-Leaguered'),\n",
              " (0.30567057985500845, 'Batman Unmasked: The Psychology of the Dark Knight'),\n",
              " (0.3052923231709812, 'Batman Beyond: Return of the Joker'),\n",
              " (0.30084592455224357,\n",
              "  \"Batman Beyond Darwyn Cooke's Batman 75th Anniversary Short\"),\n",
              " (0.2929302616464459, 'Batman Unlimited: Monster Mayhem'),\n",
              " (0.2862710692142274, 'The Lego Batman Movie'),\n",
              " (0.28125617476854287, 'Batman: Mask of the Phantasm'),\n",
              " (0.2786095160864468, 'Batman: The Dark Knight Returns, Part 1'),\n",
              " (0.2738252207206802,\n",
              "  'LEGO DC Comics Super Heroes: Justice League - Gotham City Breakout'),\n",
              " (0.2718897382770515, 'Batman: The Killing Joke'),\n",
              " (0.26991823234166284, 'Batman v Superman: Dawn of Justice'),\n",
              " (0.267328485600867, \"The Batman Superman Movie: World's Finest\")]"
            ]
          },
          "metadata": {},
          "execution_count": 10
        }
      ]
    }
  ],
  "metadata": {
    "kernelspec": {
      "display_name": "base",
      "language": "python",
      "name": "python3"
    },
    "language_info": {
      "codemirror_mode": {
        "name": "ipython",
        "version": 3
      },
      "file_extension": ".py",
      "mimetype": "text/x-python",
      "name": "python",
      "nbconvert_exporter": "python",
      "pygments_lexer": "ipython3",
      "version": "3.11.5"
    },
    "colab": {
      "provenance": [],
      "toc_visible": true
    }
  },
  "nbformat": 4,
  "nbformat_minor": 0
}