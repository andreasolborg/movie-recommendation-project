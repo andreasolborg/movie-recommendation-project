{
  "cells": [
    {
      "cell_type": "markdown",
      "metadata": {
        "id": "cOA2Auchn46O"
      },
      "source": [
        "### General\n",
        "* RUNNING ON COLAB: Make a folder in your Google Drive called `datascience_data`, and upload all the .csv files there\n",
        "* RUNNING LOCALLY: Make a folder called `datascience_data` in the same directory as this notebook, and put all the .csv files there\n",
        "\n",
        "### Recommendation\n",
        "* In order to get a recommendation, provide a **full title** of a movie that you like.\n"
      ]
    },
    {
      "cell_type": "code",
      "source": [
        "# Ignores warnings in output\n",
        "import warnings\n",
        "warnings.filterwarnings('ignore')"
      ],
      "metadata": {
        "id": "Eex1d3nQDy6T"
      },
      "execution_count": 1,
      "outputs": []
    },
    {
      "cell_type": "code",
      "execution_count": 2,
      "metadata": {
        "colab": {
          "base_uri": "https://localhost:8080/"
        },
        "id": "P0Y5SaNmn46P",
        "outputId": "c6461c38-f2f3-413d-da1a-3117c095c9db"
      },
      "outputs": [
        {
          "output_type": "stream",
          "name": "stdout",
          "text": [
            "Mounted at /content/drive\n"
          ]
        }
      ],
      "source": [
        "import pandas as pd\n",
        "import numpy as np\n",
        "import json\n",
        "\n",
        "# # Run on Colab\n",
        "\n",
        "from google.colab import drive\n",
        "drive.mount('/content/drive')\n",
        "# Define the path to the file in Google Drive\n",
        "drive_path = 'drive/My Drive/datascience_data'\n",
        "\n",
        "# # Run on local (folder: data)\n",
        "# drive_path = 'datascience_data'\n",
        "\n",
        "# Define the file names that are needed for the code\n",
        "file_names = ['keywords.csv','movies_metadata.csv']\n",
        "\n",
        "# Load the data into Pandas DataFrames\n",
        "keywords_df = pd.read_csv(drive_path + '/' + file_names[0])\n",
        "movies_metadata_df = pd.read_csv(drive_path + '/' + file_names[1])"
      ]
    },
    {
      "cell_type": "markdown",
      "metadata": {
        "id": "m0H5dmY3n46Q"
      },
      "source": [
        "### 1. Data Preprocessing\n",
        "Let's begin with the inspection and cleaning of each dataset. We start by checking for missing values, duplicates, and data types to ensure that the data is consistent. After that, I'll merge the relevant information from each dataset into a single DataFrame for further processing."
      ]
    },
    {
      "cell_type": "code",
      "execution_count": 3,
      "metadata": {
        "colab": {
          "base_uri": "https://localhost:8080/"
        },
        "id": "9ERb0YSFn46R",
        "outputId": "14b9d151-4bd0-4993-8a83-07915c5d4be3"
      },
      "outputs": [
        {
          "output_type": "stream",
          "name": "stdout",
          "text": [
            "      id                        title  \\\n",
            "0    862                    Toy Story   \n",
            "1   8844                      Jumanji   \n",
            "2  15602             Grumpier Old Men   \n",
            "3  31357            Waiting to Exhale   \n",
            "4  11862  Father of the Bride Part II   \n",
            "\n",
            "                                            overview  \\\n",
            "0  Led by Woody, Andy's toys live happily in his ...   \n",
            "1  When siblings Judy and Peter discover an encha...   \n",
            "2  A family wedding reignites the ancient feud be...   \n",
            "3  Cheated on, mistreated and stepped on, the wom...   \n",
            "4  Just when George Banks has recovered from his ...   \n",
            "\n",
            "                         genres popularity  \\\n",
            "0   [Animation, Comedy, Family]  21.946943   \n",
            "1  [Adventure, Fantasy, Family]  17.015539   \n",
            "2             [Romance, Comedy]    11.7129   \n",
            "3      [Comedy, Drama, Romance]   3.859495   \n",
            "4                      [Comedy]   8.387519   \n",
            "\n",
            "                                            keywords  \n",
            "0  [{'id': 931, 'name': 'jealousy'}, {'id': 4290,...  \n",
            "1  [{'id': 10090, 'name': 'board game'}, {'id': 1...  \n",
            "2  [{'id': 1495, 'name': 'fishing'}, {'id': 12392...  \n",
            "3  [{'id': 818, 'name': 'based on novel'}, {'id':...  \n",
            "4  [{'id': 1009, 'name': 'baby'}, {'id': 1599, 'n...  \n"
          ]
        },
        {
          "output_type": "execute_result",
          "data": {
            "text/plain": [
              "id              0\n",
              "title           3\n",
              "overview      954\n",
              "genres          0\n",
              "popularity      3\n",
              "keywords        1\n",
              "dtype: int64"
            ]
          },
          "metadata": {},
          "execution_count": 3
        }
      ],
      "source": [
        "# Data inspection and cleaning for each dataset\n",
        "\n",
        "# Data cleaning for 'movies_metadata_df'\n",
        "# Remove duplicates and ensure that 'id' is of integer type\n",
        "movies_metadata_df = movies_metadata_df.drop_duplicates(subset='id')\n",
        "movies_metadata_df = movies_metadata_df[movies_metadata_df['id'].apply(lambda x: str(x).isdigit())]\n",
        "movies_metadata_df['id'] = movies_metadata_df['id'].astype(int)\n",
        "\n",
        "# Data cleaning for 'keywords_df'\n",
        "# Remove duplicates and ensure that 'id' is of integer type\n",
        "keywords_df = keywords_df.drop_duplicates('id')\n",
        "keywords_df['id'] = keywords_df['id'].astype(int)\n",
        "\n",
        "# We will also extract the genres information and convert it from JSON string to list\n",
        "def parse_genres(genres_string):\n",
        "    try:\n",
        "        return [genre['name'] for genre in json.loads(genres_string.replace(\"'\", \"\\\"\"))]\n",
        "    except json.decoder.JSONDecodeError:\n",
        "        return []  # In case of error, return an empty list\n",
        "\n",
        "# Apply the genres parsing function to the 'genres' column\n",
        "movies_metadata_df['genres'] = movies_metadata_df['genres'].apply(parse_genres)\n",
        "\n",
        "# Merge the datasets on 'id' column including 'genres'\n",
        "merged_df = pd.merge(movies_metadata_df[['id', 'title', 'overview', 'genres', 'popularity']],\n",
        "                     keywords_df,\n",
        "                     on='id',\n",
        "                     how='left')\n",
        "\n",
        "# Display the merged DataFrame structure and check for nulls\n",
        "print(merged_df.head())\n",
        "merged_df.isnull().sum()\n",
        "\n"
      ]
    },
    {
      "cell_type": "markdown",
      "metadata": {
        "id": "FaMo0uI5n46R"
      },
      "source": [
        "Handle the missing values in the overview and keywords columns, which may involve filling or removing the missing entries.\n",
        "Preprocess the overview and keywords text data. This involves converting the JSON in the keywords column into a workable format, and cleaning the text (e.g., removing stop words, punctuation, and stemming or lemmatization)."
      ]
    },
    {
      "cell_type": "code",
      "execution_count": 4,
      "metadata": {
        "id": "btRwts6Tn46R"
      },
      "outputs": [],
      "source": [
        "# Handling missing values\n",
        "# For the 'overview' column, if the overview is missing, we can fill it with an empty string\n",
        "# For the 'keywords' column, if the keywords are missing, we can also fill it with an empty list\n",
        "merged_df['overview'] = merged_df['overview'].fillna('')\n",
        "merged_df['keywords'] = merged_df['keywords'].fillna('[]')\n",
        "\n",
        "# Now we need to convert the 'keywords' column from a JSON object to an actual list of keywords\n",
        "import json\n",
        "\n",
        "# A function to parse the keywords correctly, handling any errors in the JSON decoding process\n",
        "def parse_keywords(keyword_string):\n",
        "    try:\n",
        "        return json.loads(keyword_string.replace(\"'\", \"\\\"\"))\n",
        "    except json.decoder.JSONDecodeError:\n",
        "        return []  # In case of error, return an empty list\n",
        "\n",
        "# Convert 'keywords' column from JSON to list of keywords\n",
        "merged_df['keywords'] = merged_df['keywords'].apply(parse_keywords)\n",
        "\n",
        "# Create a 'keyword_list' column from the 'keywords' column\n",
        "merged_df['keyword_list'] = merged_df['keywords'].apply(lambda x: [d['name'] for d in x])\n",
        "\n",
        "# Create a 'combined' column that includes the overview, keyword list, and genres. This is the column that we vectorize using TF-IDF\n",
        "merged_df['combined'] = merged_df['overview'] + ' ' + merged_df['keyword_list'].apply(lambda x: ' '.join(x)) + ' ' + merged_df['genres'].apply(lambda x: ' '.join(x))\n"
      ]
    },
    {
      "cell_type": "code",
      "source": [
        "merged_df.isnull().sum()"
      ],
      "metadata": {
        "colab": {
          "base_uri": "https://localhost:8080/"
        },
        "id": "w6rwnVJBDpt-",
        "outputId": "08f09828-c303-422f-91d7-7b5877787b0c"
      },
      "execution_count": 5,
      "outputs": [
        {
          "output_type": "execute_result",
          "data": {
            "text/plain": [
              "id              0\n",
              "title           3\n",
              "overview        0\n",
              "genres          0\n",
              "popularity      3\n",
              "keywords        0\n",
              "keyword_list    0\n",
              "combined        0\n",
              "dtype: int64"
            ]
          },
          "metadata": {},
          "execution_count": 5
        }
      ]
    },
    {
      "cell_type": "code",
      "source": [
        "merged_df[['title','combined']].head()"
      ],
      "metadata": {
        "id": "Q6d5JfEUFxoN",
        "outputId": "2450ba98-0a36-4898-f956-c55e7a0329e0",
        "colab": {
          "base_uri": "https://localhost:8080/",
          "height": 206
        }
      },
      "execution_count": 6,
      "outputs": [
        {
          "output_type": "execute_result",
          "data": {
            "text/plain": [
              "                         title  \\\n",
              "0                    Toy Story   \n",
              "1                      Jumanji   \n",
              "2             Grumpier Old Men   \n",
              "3            Waiting to Exhale   \n",
              "4  Father of the Bride Part II   \n",
              "\n",
              "                                            combined  \n",
              "0  Led by Woody, Andy's toys live happily in his ...  \n",
              "1  When siblings Judy and Peter discover an encha...  \n",
              "2  A family wedding reignites the ancient feud be...  \n",
              "3  Cheated on, mistreated and stepped on, the wom...  \n",
              "4  Just when George Banks has recovered from his ...  "
            ],
            "text/html": [
              "\n",
              "  <div id=\"df-b991c088-ccb6-4ebf-b441-5c0ba4211d63\" class=\"colab-df-container\">\n",
              "    <div>\n",
              "<style scoped>\n",
              "    .dataframe tbody tr th:only-of-type {\n",
              "        vertical-align: middle;\n",
              "    }\n",
              "\n",
              "    .dataframe tbody tr th {\n",
              "        vertical-align: top;\n",
              "    }\n",
              "\n",
              "    .dataframe thead th {\n",
              "        text-align: right;\n",
              "    }\n",
              "</style>\n",
              "<table border=\"1\" class=\"dataframe\">\n",
              "  <thead>\n",
              "    <tr style=\"text-align: right;\">\n",
              "      <th></th>\n",
              "      <th>title</th>\n",
              "      <th>combined</th>\n",
              "    </tr>\n",
              "  </thead>\n",
              "  <tbody>\n",
              "    <tr>\n",
              "      <th>0</th>\n",
              "      <td>Toy Story</td>\n",
              "      <td>Led by Woody, Andy's toys live happily in his ...</td>\n",
              "    </tr>\n",
              "    <tr>\n",
              "      <th>1</th>\n",
              "      <td>Jumanji</td>\n",
              "      <td>When siblings Judy and Peter discover an encha...</td>\n",
              "    </tr>\n",
              "    <tr>\n",
              "      <th>2</th>\n",
              "      <td>Grumpier Old Men</td>\n",
              "      <td>A family wedding reignites the ancient feud be...</td>\n",
              "    </tr>\n",
              "    <tr>\n",
              "      <th>3</th>\n",
              "      <td>Waiting to Exhale</td>\n",
              "      <td>Cheated on, mistreated and stepped on, the wom...</td>\n",
              "    </tr>\n",
              "    <tr>\n",
              "      <th>4</th>\n",
              "      <td>Father of the Bride Part II</td>\n",
              "      <td>Just when George Banks has recovered from his ...</td>\n",
              "    </tr>\n",
              "  </tbody>\n",
              "</table>\n",
              "</div>\n",
              "    <div class=\"colab-df-buttons\">\n",
              "\n",
              "  <div class=\"colab-df-container\">\n",
              "    <button class=\"colab-df-convert\" onclick=\"convertToInteractive('df-b991c088-ccb6-4ebf-b441-5c0ba4211d63')\"\n",
              "            title=\"Convert this dataframe to an interactive table.\"\n",
              "            style=\"display:none;\">\n",
              "\n",
              "  <svg xmlns=\"http://www.w3.org/2000/svg\" height=\"24px\" viewBox=\"0 -960 960 960\">\n",
              "    <path d=\"M120-120v-720h720v720H120Zm60-500h600v-160H180v160Zm220 220h160v-160H400v160Zm0 220h160v-160H400v160ZM180-400h160v-160H180v160Zm440 0h160v-160H620v160ZM180-180h160v-160H180v160Zm440 0h160v-160H620v160Z\"/>\n",
              "  </svg>\n",
              "    </button>\n",
              "\n",
              "  <style>\n",
              "    .colab-df-container {\n",
              "      display:flex;\n",
              "      gap: 12px;\n",
              "    }\n",
              "\n",
              "    .colab-df-convert {\n",
              "      background-color: #E8F0FE;\n",
              "      border: none;\n",
              "      border-radius: 50%;\n",
              "      cursor: pointer;\n",
              "      display: none;\n",
              "      fill: #1967D2;\n",
              "      height: 32px;\n",
              "      padding: 0 0 0 0;\n",
              "      width: 32px;\n",
              "    }\n",
              "\n",
              "    .colab-df-convert:hover {\n",
              "      background-color: #E2EBFA;\n",
              "      box-shadow: 0px 1px 2px rgba(60, 64, 67, 0.3), 0px 1px 3px 1px rgba(60, 64, 67, 0.15);\n",
              "      fill: #174EA6;\n",
              "    }\n",
              "\n",
              "    .colab-df-buttons div {\n",
              "      margin-bottom: 4px;\n",
              "    }\n",
              "\n",
              "    [theme=dark] .colab-df-convert {\n",
              "      background-color: #3B4455;\n",
              "      fill: #D2E3FC;\n",
              "    }\n",
              "\n",
              "    [theme=dark] .colab-df-convert:hover {\n",
              "      background-color: #434B5C;\n",
              "      box-shadow: 0px 1px 3px 1px rgba(0, 0, 0, 0.15);\n",
              "      filter: drop-shadow(0px 1px 2px rgba(0, 0, 0, 0.3));\n",
              "      fill: #FFFFFF;\n",
              "    }\n",
              "  </style>\n",
              "\n",
              "    <script>\n",
              "      const buttonEl =\n",
              "        document.querySelector('#df-b991c088-ccb6-4ebf-b441-5c0ba4211d63 button.colab-df-convert');\n",
              "      buttonEl.style.display =\n",
              "        google.colab.kernel.accessAllowed ? 'block' : 'none';\n",
              "\n",
              "      async function convertToInteractive(key) {\n",
              "        const element = document.querySelector('#df-b991c088-ccb6-4ebf-b441-5c0ba4211d63');\n",
              "        const dataTable =\n",
              "          await google.colab.kernel.invokeFunction('convertToInteractive',\n",
              "                                                    [key], {});\n",
              "        if (!dataTable) return;\n",
              "\n",
              "        const docLinkHtml = 'Like what you see? Visit the ' +\n",
              "          '<a target=\"_blank\" href=https://colab.research.google.com/notebooks/data_table.ipynb>data table notebook</a>'\n",
              "          + ' to learn more about interactive tables.';\n",
              "        element.innerHTML = '';\n",
              "        dataTable['output_type'] = 'display_data';\n",
              "        await google.colab.output.renderOutput(dataTable, element);\n",
              "        const docLink = document.createElement('div');\n",
              "        docLink.innerHTML = docLinkHtml;\n",
              "        element.appendChild(docLink);\n",
              "      }\n",
              "    </script>\n",
              "  </div>\n",
              "\n",
              "\n",
              "<div id=\"df-3c209653-9b07-4e50-9803-10e374fc41ad\">\n",
              "  <button class=\"colab-df-quickchart\" onclick=\"quickchart('df-3c209653-9b07-4e50-9803-10e374fc41ad')\"\n",
              "            title=\"Suggest charts\"\n",
              "            style=\"display:none;\">\n",
              "\n",
              "<svg xmlns=\"http://www.w3.org/2000/svg\" height=\"24px\"viewBox=\"0 0 24 24\"\n",
              "     width=\"24px\">\n",
              "    <g>\n",
              "        <path d=\"M19 3H5c-1.1 0-2 .9-2 2v14c0 1.1.9 2 2 2h14c1.1 0 2-.9 2-2V5c0-1.1-.9-2-2-2zM9 17H7v-7h2v7zm4 0h-2V7h2v10zm4 0h-2v-4h2v4z\"/>\n",
              "    </g>\n",
              "</svg>\n",
              "  </button>\n",
              "\n",
              "<style>\n",
              "  .colab-df-quickchart {\n",
              "      --bg-color: #E8F0FE;\n",
              "      --fill-color: #1967D2;\n",
              "      --hover-bg-color: #E2EBFA;\n",
              "      --hover-fill-color: #174EA6;\n",
              "      --disabled-fill-color: #AAA;\n",
              "      --disabled-bg-color: #DDD;\n",
              "  }\n",
              "\n",
              "  [theme=dark] .colab-df-quickchart {\n",
              "      --bg-color: #3B4455;\n",
              "      --fill-color: #D2E3FC;\n",
              "      --hover-bg-color: #434B5C;\n",
              "      --hover-fill-color: #FFFFFF;\n",
              "      --disabled-bg-color: #3B4455;\n",
              "      --disabled-fill-color: #666;\n",
              "  }\n",
              "\n",
              "  .colab-df-quickchart {\n",
              "    background-color: var(--bg-color);\n",
              "    border: none;\n",
              "    border-radius: 50%;\n",
              "    cursor: pointer;\n",
              "    display: none;\n",
              "    fill: var(--fill-color);\n",
              "    height: 32px;\n",
              "    padding: 0;\n",
              "    width: 32px;\n",
              "  }\n",
              "\n",
              "  .colab-df-quickchart:hover {\n",
              "    background-color: var(--hover-bg-color);\n",
              "    box-shadow: 0 1px 2px rgba(60, 64, 67, 0.3), 0 1px 3px 1px rgba(60, 64, 67, 0.15);\n",
              "    fill: var(--button-hover-fill-color);\n",
              "  }\n",
              "\n",
              "  .colab-df-quickchart-complete:disabled,\n",
              "  .colab-df-quickchart-complete:disabled:hover {\n",
              "    background-color: var(--disabled-bg-color);\n",
              "    fill: var(--disabled-fill-color);\n",
              "    box-shadow: none;\n",
              "  }\n",
              "\n",
              "  .colab-df-spinner {\n",
              "    border: 2px solid var(--fill-color);\n",
              "    border-color: transparent;\n",
              "    border-bottom-color: var(--fill-color);\n",
              "    animation:\n",
              "      spin 1s steps(1) infinite;\n",
              "  }\n",
              "\n",
              "  @keyframes spin {\n",
              "    0% {\n",
              "      border-color: transparent;\n",
              "      border-bottom-color: var(--fill-color);\n",
              "      border-left-color: var(--fill-color);\n",
              "    }\n",
              "    20% {\n",
              "      border-color: transparent;\n",
              "      border-left-color: var(--fill-color);\n",
              "      border-top-color: var(--fill-color);\n",
              "    }\n",
              "    30% {\n",
              "      border-color: transparent;\n",
              "      border-left-color: var(--fill-color);\n",
              "      border-top-color: var(--fill-color);\n",
              "      border-right-color: var(--fill-color);\n",
              "    }\n",
              "    40% {\n",
              "      border-color: transparent;\n",
              "      border-right-color: var(--fill-color);\n",
              "      border-top-color: var(--fill-color);\n",
              "    }\n",
              "    60% {\n",
              "      border-color: transparent;\n",
              "      border-right-color: var(--fill-color);\n",
              "    }\n",
              "    80% {\n",
              "      border-color: transparent;\n",
              "      border-right-color: var(--fill-color);\n",
              "      border-bottom-color: var(--fill-color);\n",
              "    }\n",
              "    90% {\n",
              "      border-color: transparent;\n",
              "      border-bottom-color: var(--fill-color);\n",
              "    }\n",
              "  }\n",
              "</style>\n",
              "\n",
              "  <script>\n",
              "    async function quickchart(key) {\n",
              "      const quickchartButtonEl =\n",
              "        document.querySelector('#' + key + ' button');\n",
              "      quickchartButtonEl.disabled = true;  // To prevent multiple clicks.\n",
              "      quickchartButtonEl.classList.add('colab-df-spinner');\n",
              "      try {\n",
              "        const charts = await google.colab.kernel.invokeFunction(\n",
              "            'suggestCharts', [key], {});\n",
              "      } catch (error) {\n",
              "        console.error('Error during call to suggestCharts:', error);\n",
              "      }\n",
              "      quickchartButtonEl.classList.remove('colab-df-spinner');\n",
              "      quickchartButtonEl.classList.add('colab-df-quickchart-complete');\n",
              "    }\n",
              "    (() => {\n",
              "      let quickchartButtonEl =\n",
              "        document.querySelector('#df-3c209653-9b07-4e50-9803-10e374fc41ad button');\n",
              "      quickchartButtonEl.style.display =\n",
              "        google.colab.kernel.accessAllowed ? 'block' : 'none';\n",
              "    })();\n",
              "  </script>\n",
              "</div>\n",
              "    </div>\n",
              "  </div>\n"
            ]
          },
          "metadata": {},
          "execution_count": 6
        }
      ]
    },
    {
      "cell_type": "markdown",
      "metadata": {
        "id": "da1lEWEun46R"
      },
      "source": [
        "The missing values in the overview and keywords columns have been handled, and a new combined column has been created by merging the overview and the keyword names. This column will be used for TF-IDF vectorization.\n",
        "\n",
        "The final structure indicates that there are no missing values in the key columns used for TF-IDF. However, there are 3 entries with missing titles, which should not affect the recommendation system, as the recommendations are based on the content, not the title itself.\n",
        "\n"
      ]
    },
    {
      "cell_type": "code",
      "execution_count": 7,
      "metadata": {
        "id": "fRBKWxann46R",
        "colab": {
          "base_uri": "https://localhost:8080/"
        },
        "outputId": "91027ce8-589f-44b5-c72f-16badde3695d"
      },
      "outputs": [
        {
          "output_type": "execute_result",
          "data": {
            "text/plain": [
              "(45433, 77452)"
            ]
          },
          "metadata": {},
          "execution_count": 7
        }
      ],
      "source": [
        "from sklearn.feature_extraction.text import TfidfVectorizer\n",
        "import numpy as np\n",
        "\n",
        "\n",
        "# Initialize the TF-IDF Vectorizer\n",
        "tfidf_vectorizer = TfidfVectorizer(stop_words='english')\n",
        "\n",
        "# Fit and transform the 'combined' column to a TF-IDF matrix\n",
        "tfidf_matrix = tfidf_vectorizer.fit_transform(merged_df['combined'])\n",
        "\n",
        "# Output the shape of the TF-IDF matrix\n",
        "tfidf_matrix.shape\n"
      ]
    },
    {
      "cell_type": "markdown",
      "metadata": {
        "id": "KgSCpsn2n46S"
      },
      "source": [
        "The TF-IDF vectorization is complete. The resulting TF-IDF matrix has dimensions of 45433×77452, indicating that there are 45,433 movies and 77,452 unique words (after removing stop words) across the combined text.\n",
        "\n",
        "With this matrix, we can now calculate the cosine similarity between movies and build the recommendation system."
      ]
    },
    {
      "cell_type": "markdown",
      "metadata": {
        "id": "LcD5rHiyn46S"
      },
      "source": [
        "### Building a Recommendation System with Pairwise Cosine Similarity (Sklearn)"
      ]
    },
    {
      "cell_type": "markdown",
      "metadata": {
        "id": "BTZaRvJ3n46S"
      },
      "source": [
        "An alternative approach: pairwise_distances from sklearn.metrics with metric='cosine', which computes similarity scores on the fly.\n",
        "Source: https://scikit-learn.org/stable/modules/generated/sklearn.metrics.pairwise_distances.html"
      ]
    },
    {
      "cell_type": "code",
      "source": [
        "# Construct a reverse map of indices and movie titles\n",
        "indices = pd.Series(merged_df.index, index=merged_df['title']).drop_duplicates()"
      ],
      "metadata": {
        "id": "PZhHhaMbsfsF"
      },
      "execution_count": 8,
      "outputs": []
    },
    {
      "cell_type": "code",
      "execution_count": 9,
      "metadata": {
        "id": "nVle6dhkn46S",
        "colab": {
          "base_uri": "https://localhost:8080/"
        },
        "outputId": "c8bc4266-7941-4539-c60b-c19e69e774f9"
      },
      "outputs": [
        {
          "output_type": "execute_result",
          "data": {
            "text/plain": [
              "9228                    Batman Beyond: Return of the Joker\n",
              "1490                                        Batman & Robin\n",
              "41424    LEGO DC Comics Super Heroes: Justice League - ...\n",
              "15505                           Batman: Under the Red Hood\n",
              "10119                                        Batman Begins\n",
              "1328                                        Batman Returns\n",
              "18244                                The Dark Knight Rises\n",
              "32096                     Batman Unlimited: Monster Mayhem\n",
              "12477                                      The Dark Knight\n",
              "21387                      Batman: Mystery of the Batwoman\n",
              "29168                                     Batman vs. Robin\n",
              "9167             The Batman Superman Movie: World's Finest\n",
              "35994               The Flash 2 - Revenge of the Trickster\n",
              "25249                                    Batman vs Dracula\n",
              "19783              Batman: The Dark Knight Returns, Part 1\n",
              "18027                                     Batman: Year One\n",
              "150                                         Batman Forever\n",
              "40916                Batman: Return of the Caped Crusaders\n",
              "31049                   Batman v Superman: Dawn of Justice\n",
              "Name: title, dtype: object"
            ]
          },
          "metadata": {},
          "execution_count": 9
        }
      ],
      "source": [
        "from sklearn.metrics.pairwise import pairwise_distances\n",
        "\n",
        "# Function to get recommendations based on cosine similarity, computed on-the-fly\n",
        "def get_recommendations_pairwise_distances(title, tfidf_matrix=tfidf_matrix, indices=indices):\n",
        "    # Get the index of the movie that matches the title\n",
        "    idx = indices[title]\n",
        "\n",
        "    # Compute the cosine similarity between this movie and all others in the dataset\n",
        "    cosine_similarities = 1 - pairwise_distances(tfidf_matrix[idx], tfidf_matrix, metric='cosine')\n",
        "\n",
        "    # Get the scores of all movies\n",
        "    sim_scores = list(enumerate(cosine_similarities[0]))\n",
        "\n",
        "    # Sort the movies based on the similarity scores\n",
        "    sim_scores = sorted(sim_scores, key=lambda x: x[1], reverse=True)\n",
        "\n",
        "    # Get the scores of the 10 most similar movies\n",
        "    sim_scores = sim_scores[1:20]\n",
        "\n",
        "    # Get the movie indices\n",
        "    movie_indices = [i[0] for i in sim_scores]\n",
        "\n",
        "    # Return the top 10 most similar movies\n",
        "    return merged_df['title'].iloc[movie_indices]\n",
        "\n",
        "# Test the system with a movie\n",
        "get_recommendations_pairwise_distances(\"Batman\")\n"
      ]
    },
    {
      "cell_type": "markdown",
      "source": [
        "# Adding genre filtering\n",
        "**Genre Filtering in Movie Recommendation System**\n",
        "\n",
        "The genre filtering mechanism in the movie recommendation system enhances specificity by tailoring recommendations to a user-specified genre. This process involves several key steps:\n",
        "\n",
        "Genre Filtering Mechanism\n",
        "Function for Recommendations: The get_recommendations_with_genre_filter function is the centerpiece. It accepts a movie title, the TF-IDF matrix, the index mapping, the dataset, and an optional genre filter as inputs.\n",
        "\n",
        "Duplicate Title Handling: If there are duplicate titles in the dataset, the function selects the first occurrence to ensure uniqueness.\n",
        "\n",
        "Cosine Similarity Retrieval: For the specified movie, the function computes its cosine similarity with all other movies.\n",
        "\n",
        "Applying Genre Filter: Crucially, the genre filter allows refining recommendations. If specified, the system filters the similarity scores to include only movies that match the selected genre. This step enhances the relevance of recommendations to user preferences.\n",
        "\n",
        "Ranking and Selection: The system ranks movies based on their similarity scores and selects the top ten recommendations, aligning them with the user's genre preference."
      ],
      "metadata": {
        "id": "59KvbfAeKg7x"
      }
    },
    {
      "cell_type": "code",
      "source": [
        "# Initialize the TF-IDF Vectorizer\n",
        "tfidf_vectorizer = TfidfVectorizer(stop_words='english')\n",
        "\n",
        "# Fit and transform the 'combined' column to a TF-IDF matrix\n",
        "tfidf_matrix = tfidf_vectorizer.fit_transform(merged_df['combined'])"
      ],
      "metadata": {
        "id": "Zf9up07jKgP1"
      },
      "execution_count": 10,
      "outputs": []
    },
    {
      "cell_type": "markdown",
      "source": [
        "## Computing Similarity without packages (Genres includes)\n"
      ],
      "metadata": {
        "id": "cpb4BsFw6LK5"
      }
    },
    {
      "cell_type": "code",
      "source": [
        "# Function to calculate cosine similarity scores for a sparse matrix\n",
        "def cosine_similarity_manual(tfidf_matrix, index):\n",
        "    # Compute the cosine similarity between the index movie and all movies in the matrix\n",
        "    # This is done by calculating the dot product (as the vectors are already L2-normalized)\n",
        "    cosine_similarities = tfidf_matrix.dot(tfidf_matrix[index].T).toarray().ravel()\n",
        "    return cosine_similarities\n",
        "\n",
        "def get_recommendations_with_genre_filter(title, tfidf_matrix, merged_df, genre_filter=None):\n",
        "    # Convert title to lowercase for case-insensitive matching\n",
        "    title = title.lower()\n",
        "\n",
        "    # Assuming the title is found in the DataFrame\n",
        "    titles = merged_df['title'].str.lower()\n",
        "    indices = pd.Series(merged_df.index, index=titles).drop_duplicates()\n",
        "\n",
        "    # Get the index of the movie that matches the title\n",
        "    idx_list = indices[title]\n",
        "    if isinstance(idx_list, pd.Series):\n",
        "        idx = idx_list.iloc[0]  # Take the first one if there are multiple\n",
        "    else:\n",
        "        idx = idx_list\n",
        "\n",
        "    # Calculate cosine similarity scores using the manual method\n",
        "    cosine_similarities = cosine_similarity_manual(tfidf_matrix, idx)\n",
        "\n",
        "    # Get the scores of all movies\n",
        "    sim_scores = list(enumerate(cosine_similarities))\n",
        "\n",
        "    # Sort the movies based on the similarity scores\n",
        "    sim_scores = sorted(sim_scores, key=lambda x: x[1], reverse=True)\n",
        "\n",
        "    # If a genre filter is applied, filter the recommended movies by the specified genre\n",
        "    if genre_filter:\n",
        "        genre_filter = genre_filter.lower()  # Convert genre filter to lowercase once\n",
        "        genre_filtered_scores = []\n",
        "        for movie_idx, score in sim_scores:\n",
        "            # Check if the genre filter is in the list of genres (also converted to lowercase)\n",
        "            if any(genre_filter in genre.lower() for genre in merged_df.iloc[movie_idx]['genres']):\n",
        "                genre_filtered_scores.append((movie_idx, score))\n",
        "        sim_scores = genre_filtered_scores\n",
        "\n",
        "    # Get the scores of the 10 most similar movies\n",
        "    sim_scores = sim_scores[1:11]\n",
        "\n",
        "    # Get the movie titles and scores\n",
        "    similar_movies = [(merged_df['title'].iloc[index], score) for index, score in sim_scores]\n",
        "\n",
        "    return similar_movies\n",
        "\n",
        "# Test the updated function\n",
        "recommendations = get_recommendations_with_genre_filter(\"Batman\", tfidf_matrix, merged_df, genre_filter=\"Family\")\n",
        "for title, score in recommendations:\n",
        "    print(f\"{title}: {score:.2f}\")"
      ],
      "metadata": {
        "colab": {
          "base_uri": "https://localhost:8080/"
        },
        "id": "Lt-YSW-K6Ku1",
        "outputId": "4794390c-9351-4627-ffc2-d8fc947236e4"
      },
      "execution_count": 11,
      "outputs": [
        {
          "output_type": "stream",
          "name": "stdout",
          "text": [
            "Batman Unlimited: Monster Mayhem: 0.36\n",
            "Batman: Mystery of the Batwoman: 0.35\n",
            "Batman: Mask of the Phantasm: 0.24\n",
            "Batman Beyond: The Movie: 0.20\n",
            "Batman Unlimited: Animal Instincts: 0.19\n",
            "The Lego Batman Movie: 0.18\n",
            "LEGO DC Comics Super Heroes: Batman: Be-Leaguered: 0.17\n",
            "JLA Adventures: Trapped in Time: 0.14\n",
            "Lego Batman: The Movie - DC Super Heroes Unite: 0.13\n",
            "Batman: 0.12\n"
          ]
        }
      ]
    },
    {
      "cell_type": "markdown",
      "source": [
        "## Using sklearn package"
      ],
      "metadata": {
        "id": "jfFt8sVd6Hhg"
      }
    },
    {
      "cell_type": "code",
      "source": [
        "from sklearn.metrics.pairwise import pairwise_distances\n",
        "from sklearn.feature_extraction.text import TfidfVectorizer\n",
        "\n",
        "# Construct a reverse map of indices and movie titles\n",
        "indices = pd.Series(merged_df.index, index=merged_df['title']).drop_duplicates()\n",
        "\n",
        "# Function to get recommendations based on cosine similarity, computed on-the-fly, with genre filtering\n",
        "def get_recommendations_with_genre_filter(title, tfidf_matrix=tfidf_matrix, indices=indices, df=merged_df, genre_filter=None):\n",
        "    # Handle duplicate titles\n",
        "    idx_series = indices[title]\n",
        "    if isinstance(idx_series, pd.Series):\n",
        "        idx = idx_series.iloc[0]\n",
        "    else:\n",
        "        idx = idx_series\n",
        "\n",
        "    # Compute the cosine similarity between this movie and all others in the dataset\n",
        "    cosine_similarities = 1 - pairwise_distances(tfidf_matrix[idx:idx+1], tfidf_matrix, metric='cosine')\n",
        "\n",
        "    # Get the scores of all movies\n",
        "    sim_scores = list(enumerate(cosine_similarities[0]))\n",
        "\n",
        "    # Sort the movies based on the similarity scores\n",
        "    sim_scores = sorted(sim_scores, key=lambda x: x[1], reverse=True)\n",
        "\n",
        "    # If a genre filter is applied, filter the recommended movies by the specified genre\n",
        "    if genre_filter:\n",
        "        genre_filtered_scores = []\n",
        "        for i in sim_scores:\n",
        "            movie_idx = i[0]\n",
        "            if genre_filter in df.iloc[movie_idx]['genres']:\n",
        "                genre_filtered_scores.append(i)\n",
        "        sim_scores = genre_filtered_scores\n",
        "\n",
        "    # Get the scores of the 10 most similar movies\n",
        "    sim_scores = sim_scores[1:11]\n",
        "\n",
        "    # Get the movie indices and scores\n",
        "    movie_indices_scores = [(i[0], i[1]) for i in sim_scores]\n",
        "\n",
        "    # Return the top 10 most similar movies along with their similarity scores\n",
        "    return [(df['title'].iloc[index], score) for index, score in movie_indices_scores]\n",
        "\n",
        "# Here you are asked to input a movie and a genre. It is case sensitive. Our example is \"Batman\" and no input on genre.\n",
        "user_input = input('Enter title: ')\n",
        "user_genre_input = input('Enter genre: (blank input means no genre filter) ')\n",
        "\n",
        "# Test the system with a movie and apply genre filter for 'Family'\n",
        "recommendations = get_recommendations_with_genre_filter(user_input, genre_filter=user_genre_input)\n",
        "for title, score in recommendations:\n",
        "    print(f\"{title}: {score:.2f}\")"
      ],
      "metadata": {
        "id": "0g4HjVsCDD99",
        "colab": {
          "base_uri": "https://localhost:8080/"
        },
        "outputId": "ba1c5d3f-0a12-431a-bcf3-13491ebe55af"
      },
      "execution_count": 12,
      "outputs": [
        {
          "output_type": "stream",
          "name": "stdout",
          "text": [
            "Enter title: Batman\n",
            "Enter genre: (blank input means no genre filter) \n",
            "Batman Beyond: Return of the Joker: 0.51\n",
            "Batman & Robin: 0.49\n",
            "LEGO DC Comics Super Heroes: Justice League - Gotham City Breakout: 0.44\n",
            "Batman: Under the Red Hood: 0.39\n",
            "Batman Begins: 0.39\n",
            "Batman Returns: 0.38\n",
            "The Dark Knight Rises: 0.38\n",
            "Batman Unlimited: Monster Mayhem: 0.36\n",
            "The Dark Knight: 0.35\n",
            "Batman: Mystery of the Batwoman: 0.35\n"
          ]
        }
      ]
    },
    {
      "cell_type": "markdown",
      "source": [
        "#Self chosen method: Word Embeddings"
      ],
      "metadata": {
        "id": "hI2-xRcXg4oO"
      }
    },
    {
      "cell_type": "markdown",
      "source": [
        "###Training the model"
      ],
      "metadata": {
        "id": "e1Y8DZ28Kvlc"
      }
    },
    {
      "cell_type": "code",
      "source": [
        "import numpy as np\n",
        "import pandas as pd\n",
        "from sklearn.model_selection import train_test_split\n",
        "from sklearn.preprocessing import LabelEncoder\n",
        "from tensorflow.keras.preprocessing.text import Tokenizer\n",
        "from tensorflow.keras.preprocessing.sequence import pad_sequences\n",
        "from tensorflow.keras.models import Sequential\n",
        "from tensorflow.keras.layers import Embedding, GlobalAveragePooling1D, Dense, LSTM, Dropout\n",
        "from tensorflow.keras.utils import to_categorical\n",
        "from tensorflow.keras.optimizers import Adam\n",
        "from sklearn.preprocessing import MultiLabelBinarizer\n",
        "from sklearn.metrics import multilabel_confusion_matrix\n",
        "from tensorflow.keras.callbacks import EarlyStopping\n",
        "\n",
        "def extract_keyword_names(keyword_list):\n",
        "    if isinstance(keyword_list, list):\n",
        "        names = [keyword['name'] for keyword in keyword_list if isinstance(keyword, dict) and 'name' in keyword]\n",
        "        return ' '.join(names)\n",
        "    return ''\n",
        "\n",
        "# Data preparation\n",
        "tsDf = merged_df\n",
        "tsDf.dropna(subset=['genres'], inplace=True)\n",
        "tsDf['keywords'] = tsDf['keywords'].apply(extract_keyword_names)\n",
        "tsDf.fillna({'overview': '', 'keywords': ''}, inplace=True)\n",
        "tsDf['combined_text'] = tsDf['overview'] + ' ' + tsDf['keywords']\n",
        "\n",
        "# MultiLabel Binarizer\n",
        "mlb = MultiLabelBinarizer()\n",
        "encoded_labels = mlb.fit_transform(tsDf['genres'])\n",
        "\n",
        "# Generate labels for genres\n",
        "categorical_labels = encoded_labels\n",
        "\n",
        "# Prepare tokenizer\n",
        "tokenizer = Tokenizer(num_words=1000, oov_token='<OOV>')\n",
        "tokenizer.fit_on_texts(tsDf['combined_text'])\n",
        "sequences = tokenizer.texts_to_sequences(tsDf['combined_text'])\n",
        "padded_sequences = pad_sequences(sequences, maxlen=60, padding='post')\n",
        "\n",
        "# Implemented early stopping to counteract overfitting to the training data\n",
        "early_stopping = EarlyStopping(\n",
        "    monitor='val_accuracy',\n",
        "    patience=4,\n",
        "    restore_best_weights=True\n",
        ")\n",
        "\n",
        "# Split the data for training and testing\n",
        "X_train, X_test, y_train, y_test, titles_train, titles_test = train_test_split(\n",
        "    padded_sequences, categorical_labels, tsDf['title'], test_size=0.2, random_state=42)\n",
        "\n",
        "# Adjustment of parameters - This was the ones that gave us the best result\n",
        "learning_rate = 0.001\n",
        "batch_size = 32\n",
        "dropout_rate = 0.3\n",
        "epochs = 25\n",
        "\n",
        "# Building our prediction model\n",
        "model = Sequential([\n",
        "    Embedding(1000, 64, input_length=60),\n",
        "    LSTM(32, return_sequences=True),\n",
        "    GlobalAveragePooling1D(),\n",
        "    Dropout(dropout_rate),\n",
        "    Dense(32, activation='relu'),\n",
        "    Dense(len(mlb.classes_), activation='sigmoid')\n",
        "])\n",
        "\n",
        "model.compile(loss='binary_crossentropy', optimizer=Adam(learning_rate=learning_rate), metrics=['accuracy'])\n",
        "\n",
        "# Fit the model to our data\n",
        "history = model.fit(\n",
        "    X_train,\n",
        "    y_train,\n",
        "    epochs = epochs,\n",
        "    batch_size = batch_size,\n",
        "    validation_data = (X_test, y_test),\n",
        "    callbacks = [early_stopping],\n",
        "    verbose = 2\n",
        ")"
      ],
      "metadata": {
        "colab": {
          "base_uri": "https://localhost:8080/"
        },
        "id": "AiNBY_AAGwpq",
        "outputId": "e95e2fcd-8117-4d8c-863e-45fb41a965d4"
      },
      "execution_count": 13,
      "outputs": [
        {
          "output_type": "stream",
          "name": "stdout",
          "text": [
            "Epoch 1/25\n",
            "1136/1136 - 34s - loss: 0.2933 - accuracy: 0.2532 - val_loss: 0.2666 - val_accuracy: 0.2751 - 34s/epoch - 30ms/step\n",
            "Epoch 2/25\n",
            "1136/1136 - 9s - loss: 0.2582 - accuracy: 0.2952 - val_loss: 0.2463 - val_accuracy: 0.3179 - 9s/epoch - 8ms/step\n",
            "Epoch 3/25\n",
            "1136/1136 - 9s - loss: 0.2444 - accuracy: 0.3088 - val_loss: 0.2387 - val_accuracy: 0.3064 - 9s/epoch - 8ms/step\n",
            "Epoch 4/25\n",
            "1136/1136 - 8s - loss: 0.2344 - accuracy: 0.3267 - val_loss: 0.2276 - val_accuracy: 0.3462 - 8s/epoch - 7ms/step\n",
            "Epoch 5/25\n",
            "1136/1136 - 10s - loss: 0.2240 - accuracy: 0.3859 - val_loss: 0.2204 - val_accuracy: 0.4019 - 10s/epoch - 9ms/step\n",
            "Epoch 6/25\n",
            "1136/1136 - 7s - loss: 0.2184 - accuracy: 0.4123 - val_loss: 0.2177 - val_accuracy: 0.4112 - 7s/epoch - 6ms/step\n",
            "Epoch 7/25\n",
            "1136/1136 - 9s - loss: 0.2155 - accuracy: 0.4208 - val_loss: 0.2161 - val_accuracy: 0.4132 - 9s/epoch - 8ms/step\n",
            "Epoch 8/25\n",
            "1136/1136 - 7s - loss: 0.2133 - accuracy: 0.4251 - val_loss: 0.2147 - val_accuracy: 0.4219 - 7s/epoch - 6ms/step\n",
            "Epoch 9/25\n",
            "1136/1136 - 9s - loss: 0.2119 - accuracy: 0.4278 - val_loss: 0.2143 - val_accuracy: 0.4247 - 9s/epoch - 8ms/step\n",
            "Epoch 10/25\n",
            "1136/1136 - 8s - loss: 0.2102 - accuracy: 0.4300 - val_loss: 0.2137 - val_accuracy: 0.4145 - 8s/epoch - 7ms/step\n",
            "Epoch 11/25\n",
            "1136/1136 - 9s - loss: 0.2093 - accuracy: 0.4314 - val_loss: 0.2134 - val_accuracy: 0.4181 - 9s/epoch - 8ms/step\n",
            "Epoch 12/25\n",
            "1136/1136 - 7s - loss: 0.2080 - accuracy: 0.4316 - val_loss: 0.2128 - val_accuracy: 0.4223 - 7s/epoch - 6ms/step\n",
            "Epoch 13/25\n",
            "1136/1136 - 9s - loss: 0.2068 - accuracy: 0.4352 - val_loss: 0.2120 - val_accuracy: 0.4133 - 9s/epoch - 7ms/step\n"
          ]
        }
      ]
    },
    {
      "cell_type": "markdown",
      "source": [
        "###Testing the prediction"
      ],
      "metadata": {
        "id": "O64J-LeI2eV_"
      }
    },
    {
      "cell_type": "code",
      "source": [
        "# Handling the lists of genres\n",
        "def genres_from_predictions(preds, threshold=0.5):\n",
        "    genre_preds = []\n",
        "    for pred in preds:\n",
        "        genre_pred = mlb.classes_[(pred > threshold).astype(int) == 1]\n",
        "        genre_preds.append(genre_pred)\n",
        "    return genre_preds\n",
        "\n",
        "def predict_genre_from_overview(overview):\n",
        "    sequence = tokenizer.texts_to_sequences([overview])\n",
        "    padded_sequence = pad_sequences(sequence, maxlen=60, padding='post')\n",
        "\n",
        "    prediction = model.predict(padded_sequence)\n",
        "    predicted_genre_arrays = genres_from_predictions(prediction, threshold=0.5)\n",
        "    predicted_genres = [genre for array in predicted_genre_arrays for genre in array]\n",
        "\n",
        "    if not predicted_genres:\n",
        "        return \"Try something else\"\n",
        "    else:\n",
        "        return ', '.join(predicted_genres)\n",
        "\n",
        "# You can test these different examples of overviews\n",
        "drama_example = \"his best friend diego and with his dysfunctional mother he dreams on leaving his hometown to watch a bob show but seems to be hopeless stranded in the spot\"\n",
        "horror_scifi_example = \"a team of men and women investigate the mysterious of two to a but world monster future creature movie\"\n",
        "comedy_example = \"pilot for and an on this new show off the his first our for three years to more of take on love politics and the of life all with for any lover of comedy this is the must see show of stand up comedy\"\n",
        "# Example usage for drama\n",
        "predicted_genres = predict_genre_from_overview(\"a small town in the in the south of a teenager that uses the mr man his time in at school with his best friend and with his mother he dreams on leaving his to a show but seems to be in the\")\n",
        "print(\"Predicted Genres:\", predicted_genres)"
      ],
      "metadata": {
        "id": "0C-czwnwHuwb",
        "colab": {
          "base_uri": "https://localhost:8080/"
        },
        "outputId": "3741d874-b0fe-466c-822b-c2dd10aa3ba7"
      },
      "execution_count": 14,
      "outputs": [
        {
          "output_type": "stream",
          "name": "stdout",
          "text": [
            "1/1 [==============================] - 0s 437ms/step\n",
            "Predicted Genres: Drama\n"
          ]
        }
      ]
    },
    {
      "cell_type": "markdown",
      "source": [
        "###Checking the performance"
      ],
      "metadata": {
        "id": "gboC4ibM2gqG"
      }
    },
    {
      "cell_type": "code",
      "source": [
        "def sequence_to_text(sequence):\n",
        "    words = [tokenizer.index_word.get(idx, '<?>') for idx in sequence if idx != 0]\n",
        "    return ' '.join(words)\n",
        "\n",
        "actual_genres = [', '.join(mlb.classes_[y_test[i].astype(bool)]) for i in range(len(y_test))]\n",
        "\n",
        "\n",
        "# Example of 7 different overviews from our testing dataset\n",
        "for i in range(5):\n",
        "    print(f\"Sample {i+1}:\")\n",
        "    i += 2000\n",
        "    title = titles_test.iloc[i]\n",
        "    overview = sequence_to_text(X_test[i])\n",
        "    predicted_genres = predict_genre_from_overview(overview)\n",
        "    actual_genres_str = actual_genres[i]\n",
        "\n",
        "    print(\"Title:\", title)\n",
        "    print(\"Predicted Genres:\", predicted_genres)\n",
        "    print(\"Actual Genres:\", actual_genres_str)\n",
        "    print(\"Overview:\", overview)\n",
        "    print(\"------\")\n"
      ],
      "metadata": {
        "id": "mvwzeYDiP5y_",
        "colab": {
          "base_uri": "https://localhost:8080/"
        },
        "outputId": "a6850bfd-0e19-4182-bb77-c616e8792259"
      },
      "execution_count": 27,
      "outputs": [
        {
          "output_type": "stream",
          "name": "stdout",
          "text": [
            "Sample 1:\n",
            "1/1 [==============================] - 0s 18ms/step\n",
            "Title: Shall We Dance?\n",
            "Predicted Genres: Drama\n",
            "Actual Genres: Comedy, Drama, Romance\n",
            "Overview: upon first <OOV> of a beautiful <OOV> a <OOV> and <OOV> <OOV> lawyer <OOV> up for <OOV> <OOV> <OOV> <OOV> wife husband relationship <OOV> master\n",
            "------\n",
            "Sample 2:\n",
            "1/1 [==============================] - 0s 17ms/step\n",
            "Title: The Hunter's Prayer\n",
            "Predicted Genres: Drama, Thriller\n",
            "Actual Genres: Action, Thriller\n",
            "Overview: an <OOV> helps a young woman <OOV> the death of her family <OOV> <OOV> murder <OOV> survival escape teenage girl drug <OOV> <OOV> daughter\n",
            "------\n",
            "Sample 3:\n",
            "1/1 [==============================] - 0s 20ms/step\n",
            "Title: The von Trapp Family: A Life of Music\n",
            "Predicted Genres: Music\n",
            "Actual Genres: Drama, Music\n",
            "Overview: <OOV> <OOV> <OOV> the <OOV> daughter of a well known musical family <OOV> many <OOV> to <OOV> her musical career and move to the united states family\n",
            "------\n",
            "Sample 4:\n",
            "1/1 [==============================] - 0s 26ms/step\n",
            "Title: Shade\n",
            "Predicted Genres: Action\n",
            "Actual Genres: Action, Crime, Thriller\n",
            "Overview: they figure a good way of <OOV> this is taking down <OOV> the <OOV> <OOV> a well known <OOV> in a <OOV> game however they first need enough money to <OOV> a game with <OOV> so they decide to <OOV> a deal with fellow <OOV> <OOV> <OOV> to <OOV> a local gangster which turns out to be a bad <OOV>\n",
            "------\n",
            "Sample 5:\n",
            "1/1 [==============================] - 0s 54ms/step\n",
            "Title: The Truman Show\n",
            "Predicted Genres: Try something else\n",
            "Actual Genres: Comedy, Drama\n",
            "Overview: every <OOV> of his life live and in <OOV> without his <OOV> his entire life has been an <OOV> <OOV> <OOV> for <OOV> by the rest of the world and everyone he knows including his wife and his best friend is really an actor <OOV> to be part of his life <OOV> hidden camera <OOV> reality show make believe <OOV>\n",
            "------\n"
          ]
        }
      ]
    },
    {
      "cell_type": "markdown",
      "source": [
        "###Reccommender of movies in genre from overview"
      ],
      "metadata": {
        "id": "W2-l1ezBKdpN"
      }
    },
    {
      "cell_type": "code",
      "source": [
        "def recommender_from_overview(overview, amount=5):\n",
        "    predicted_genres = predict_genre_from_overview(overview)\n",
        "    genres = predicted_genres.split(\", \")\n",
        "    print(\"Predicted Genres:\", genres)\n",
        "\n",
        "    merged_df['popularity'] = pd.to_numeric(merged_df['popularity'], errors='coerce')\n",
        "    filtered_df = merged_df[merged_df['genres'].apply(lambda x: any(genre in x for genre in genres))]\n",
        "    sorted_df = filtered_df.sort_values(by='popularity', ascending=False)\n",
        "    return sorted_df.head(amount)['title']\n",
        "\n",
        "# Example using an overview we know the model will predict to be a Comedy, showing the 10 most popular comedies in the dataset\n",
        "out = recommender_from_overview(comedy_example,10)\n",
        "print(out)"
      ],
      "metadata": {
        "id": "vJYzfBISX3JR",
        "colab": {
          "base_uri": "https://localhost:8080/"
        },
        "outputId": "ecce24fc-4955-489a-b4a4-f194b45cef68"
      },
      "execution_count": 16,
      "outputs": [
        {
          "output_type": "stream",
          "name": "stdout",
          "text": [
            "1/1 [==============================] - 0s 19ms/step\n",
            "Predicted Genres: ['Comedy']\n",
            "30677                                             Minions\n",
            "24438                                          Big Hero 6\n",
            "26546                                            Deadpool\n",
            "26548                      Guardians of the Galaxy Vol. 2\n",
            "26542    Pirates of the Caribbean: Dead Men Tell No Tales\n",
            "43256            Captain Underpants: The First Epic Movie\n",
            "351                                          Forrest Gump\n",
            "30667                                               Ted 2\n",
            "38823                                    Now You See Me 2\n",
            "2210                                    Life Is Beautiful\n",
            "Name: title, dtype: object\n"
          ]
        }
      ]
    }
  ],
  "metadata": {
    "kernelspec": {
      "display_name": "Python 3",
      "name": "python3"
    },
    "language_info": {
      "codemirror_mode": {
        "name": "ipython",
        "version": 3
      },
      "file_extension": ".py",
      "mimetype": "text/x-python",
      "name": "python",
      "nbconvert_exporter": "python",
      "pygments_lexer": "ipython3",
      "version": "3.11.5"
    },
    "colab": {
      "provenance": [],
      "gpuType": "T4"
    },
    "accelerator": "GPU"
  },
  "nbformat": 4,
  "nbformat_minor": 0
}